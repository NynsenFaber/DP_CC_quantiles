{
 "cells": [
  {
   "cell_type": "code",
   "id": "initial_id",
   "metadata": {
    "collapsed": true,
    "ExecuteTime": {
     "end_time": "2025-05-09T14:53:54.064014Z",
     "start_time": "2025-05-09T14:53:54.061461Z"
    }
   },
   "source": [
    "import pandas as pd\n",
    "import pickle"
   ],
   "outputs": [],
   "execution_count": 22
  },
  {
   "metadata": {
    "ExecuteTime": {
     "end_time": "2025-05-09T14:51:04.753027Z",
     "start_time": "2025-05-09T14:51:04.699240Z"
    }
   },
   "cell_type": "code",
   "source": "books_df = pd.read_csv('books.csv', on_bad_lines='skip')",
   "id": "cf6eb69e1762827f",
   "outputs": [],
   "execution_count": 9
  },
  {
   "metadata": {
    "ExecuteTime": {
     "end_time": "2025-05-09T14:53:37.898480Z",
     "start_time": "2025-05-09T14:53:37.895450Z"
    }
   },
   "cell_type": "code",
   "source": [
    "books_ratings = books_df[\"ratings_count\"].to_numpy()\n",
    "books_page_counts = books_df[\"  num_pages\"].to_numpy()"
   ],
   "id": "4179c02f77eec40d",
   "outputs": [],
   "execution_count": 19
  },
  {
   "metadata": {
    "ExecuteTime": {
     "end_time": "2025-05-09T14:54:13.931027Z",
     "start_time": "2025-05-09T14:54:13.927623Z"
    }
   },
   "cell_type": "code",
   "source": [
    "# save as pickle\n",
    "# save books_ratings and books_page_counts as pickle files\n",
    "with open('books_ratings.pkl', 'wb') as f:\n",
    "    pickle.dump(books_ratings, f)\n",
    "with open('books_page_counts.pkl', 'wb') as f:\n",
    "    pickle.dump(books_page_counts, f)"
   ],
   "id": "dce2a758ce6d2c47",
   "outputs": [],
   "execution_count": 23
  },
  {
   "metadata": {
    "ExecuteTime": {
     "end_time": "2025-05-09T15:01:14.526495Z",
     "start_time": "2025-05-09T15:01:11.795305Z"
    }
   },
   "cell_type": "code",
   "source": [
    "from ucimlrepo import fetch_ucirepo\n",
    "\n",
    "# fetch dataset\n",
    "adult = fetch_ucirepo(id=2)\n",
    "\n",
    "# data (as pandas dataframes)\n",
    "X = adult.data.features\n"
   ],
   "id": "c057793b36da3e78",
   "outputs": [],
   "execution_count": 49
  },
  {
   "metadata": {
    "ExecuteTime": {
     "end_time": "2025-05-09T15:01:18.729654Z",
     "start_time": "2025-05-09T15:01:18.727470Z"
    }
   },
   "cell_type": "code",
   "source": [
    "age_data = X.age.to_numpy()\n",
    "working_hours_data = X[\"hours-per-week\"].to_numpy()"
   ],
   "id": "54ef8c12e39e722b",
   "outputs": [],
   "execution_count": 50
  },
  {
   "metadata": {
    "ExecuteTime": {
     "end_time": "2025-05-09T15:01:32.047571Z",
     "start_time": "2025-05-09T15:01:32.040713Z"
    }
   },
   "cell_type": "code",
   "source": [
    "# save as pickle\n",
    "# save age_data and working_hours_data as pickle files\n",
    "with open('age_data.pkl', 'wb') as f:\n",
    "    pickle.dump(age_data, f)\n",
    "with open('working_hours_data.pkl', 'wb') as f:\n",
    "    pickle.dump(working_hours_data, f)"
   ],
   "id": "8e7407709df408b0",
   "outputs": [],
   "execution_count": 51
  }
 ],
 "metadata": {
  "kernelspec": {
   "display_name": "Python 3",
   "language": "python",
   "name": "python3"
  },
  "language_info": {
   "codemirror_mode": {
    "name": "ipython",
    "version": 2
   },
   "file_extension": ".py",
   "mimetype": "text/x-python",
   "name": "python",
   "nbconvert_exporter": "python",
   "pygments_lexer": "ipython2",
   "version": "2.7.6"
  }
 },
 "nbformat": 4,
 "nbformat_minor": 5
}
